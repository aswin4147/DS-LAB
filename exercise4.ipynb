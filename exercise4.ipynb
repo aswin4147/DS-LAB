{
 "cells": [
  {
   "cell_type": "code",
   "execution_count": 29,
   "metadata": {},
   "outputs": [],
   "source": [
    "import pandas as pd\n",
    "import numpy as np"
   ]
  },
  {
   "cell_type": "markdown",
   "metadata": {},
   "source": [
    "##### 1.Write a python program to implement List-to-Series Conversion."
   ]
  },
  {
   "cell_type": "code",
   "execution_count": 4,
   "metadata": {},
   "outputs": [
    {
     "name": "stdout",
     "output_type": "stream",
     "text": [
      "List: \n",
      "[10, 20, 30, 40, 50]\n",
      "Series: \n",
      "0    10\n",
      "1    20\n",
      "2    30\n",
      "3    40\n",
      "4    50\n",
      "dtype: int64 <class 'pandas.core.series.Series'>\n"
     ]
    }
   ],
   "source": [
    "\n",
    "x = [10, 20, 30, 40, 50]\n",
    "\n",
    "series = pd.Series(x)\n",
    "\n",
    "print(\"List: \")\n",
    "print(x)\n",
    "print(\"Series: \")\n",
    "print(series, type(series))"
   ]
  },
  {
   "cell_type": "markdown",
   "metadata": {},
   "source": [
    "**2. Write a python program to Generate the series of dates from 1st May, 2021 to 12th May, 2021 (both inclusive)**"
   ]
  },
  {
   "cell_type": "code",
   "execution_count": 9,
   "metadata": {},
   "outputs": [
    {
     "name": "stdout",
     "output_type": "stream",
     "text": [
      "2021-05-01\n",
      "2021-05-02\n",
      "2021-05-03\n",
      "2021-05-04\n",
      "2021-05-05\n",
      "2021-05-06\n",
      "2021-05-07\n",
      "2021-05-08\n",
      "2021-05-09\n",
      "2021-05-10\n",
      "2021-05-11\n",
      "2021-05-12\n"
     ]
    }
   ],
   "source": [
    "start = '2021-05-01'\n",
    "end = '2021-05-12'\n",
    "\n",
    "x = pd.date_range(start=start, end=end)\n",
    "for date in x:\n",
    "    print(date.strftime('%Y-%m-%d'))"
   ]
  },
  {
   "cell_type": "markdown",
   "metadata": {},
   "source": [
    "**3. Given a dictionary, convert it into corresponding dataframe and display it.**"
   ]
  },
  {
   "cell_type": "code",
   "execution_count": 11,
   "metadata": {},
   "outputs": [
    {
     "name": "stdout",
     "output_type": "stream",
     "text": [
      "      Name  Age          City\n",
      "0    Akhil   25         Ranni\n",
      "1  Bhavana   30   Kunnumpuram\n",
      "2   Deepak   35  Chempazhanti\n"
     ]
    }
   ],
   "source": [
    "data = {'Name': ['Akhil', 'Bhavana', 'Deepak'],\n",
    "        'Age': [25, 30, 35],\n",
    "        'City': ['Ranni', 'Kunnumpuram', 'Chempazhanti']}\n",
    "\n",
    "df = pd.DataFrame(data)\n",
    "\n",
    "print(df)"
   ]
  },
  {
   "cell_type": "markdown",
   "metadata": {},
   "source": [
    "**4. Given a 2D List, convert it into corresponding datafram and display it**"
   ]
  },
  {
   "cell_type": "code",
   "execution_count": 12,
   "metadata": {},
   "outputs": [
    {
     "name": "stdout",
     "output_type": "stream",
     "text": [
      "      Name  Age          City\n",
      "0    Akhil   25         Ranni\n",
      "1  Bhavana   30   Kunnumpuram\n",
      "2  Charlie   35  Chempazhanti\n"
     ]
    }
   ],
   "source": [
    "data = [['Akhil', 25, 'Ranni'],\n",
    "             ['Bhavana', 30, 'Kunnumpuram'],\n",
    "             ['Charlie', 35, 'Chempazhanti']]\n",
    "df = pd.DataFrame(data, columns=['Name', 'Age', 'City'])\n",
    "\n",
    "print(df)\n"
   ]
  },
  {
   "cell_type": "markdown",
   "metadata": {},
   "source": [
    "**5. Given a CSV file, read it into a dataframe and display it**"
   ]
  },
  {
   "cell_type": "code",
   "execution_count": 14,
   "metadata": {},
   "outputs": [
    {
     "name": "stdout",
     "output_type": "stream",
     "text": [
      "      Name  Age          City\n",
      "0    Akhil   22         Ranni\n",
      "1  Bhavana   22   Kunnumpuram\n",
      "2   Deepak   22  Chempazhanti\n"
     ]
    }
   ],
   "source": [
    "import pandas as pd\n",
    "\n",
    "df = pd.read_csv('data.csv')\n",
    "\n",
    "print(df)"
   ]
  },
  {
   "cell_type": "markdown",
   "metadata": {},
   "source": [
    "**6. Given a dataframe, sort it by multiple columns**"
   ]
  },
  {
   "cell_type": "code",
   "execution_count": 17,
   "metadata": {},
   "outputs": [
    {
     "name": "stdout",
     "output_type": "stream",
     "text": [
      "Original df: \n",
      "  col1  col2  col3\n",
      "0    A     2     5\n",
      "1    B     1     4\n",
      "2    A     2     6\n",
      "3    B     3     7\n",
      "4    A     1     8\n",
      "5    B     3     9\n",
      "Sorted df:\n",
      "  col1  col2  col3\n",
      "4    A     1     8\n",
      "0    A     2     5\n",
      "2    A     2     6\n",
      "1    B     1     4\n",
      "3    B     3     7\n",
      "5    B     3     9\n"
     ]
    }
   ],
   "source": [
    "data = {'col1': ['A', 'B', 'A', 'B', 'A', 'B'],\n",
    "        'col2': [2, 1, 2, 3, 1, 3],\n",
    "        'col3': [5, 4, 6, 7, 8, 9]}\n",
    "df = pd.DataFrame(data)\n",
    "print(\"Original df: \")\n",
    "print(df)\n",
    "\n",
    "sorteddf = df.sort_values(by=['col1', 'col2'])\n",
    "print(\"Sorted df:\")\n",
    "print(sorteddf)"
   ]
  },
  {
   "cell_type": "markdown",
   "metadata": {},
   "source": [
    "**7. Given a dataframe with custom indexing, convert and it to default indexing and display it.**"
   ]
  },
  {
   "cell_type": "code",
   "execution_count": 22,
   "metadata": {},
   "outputs": [
    {
     "name": "stdout",
     "output_type": "stream",
     "text": [
      "Original df:\n",
      "      Name  Age          City\n",
      "a    Akhil   25         Ranni\n",
      "b  Bhavana   30   Kunnumpuram\n",
      "c   Deepak   35  Chempazhanti\n",
      "\n",
      "==============================\n",
      "\n",
      "df with default index:\n",
      "      Name  Age          City\n",
      "0    Akhil   25         Ranni\n",
      "1  Bhavana   30   Kunnumpuram\n",
      "2   Deepak   35  Chempazhanti\n"
     ]
    }
   ],
   "source": [
    "data = {'Name': ['Akhil', 'Bhavana', 'Deepak'],\n",
    "        'Age': [25, 30, 35],\n",
    "        'City': ['Ranni', 'Kunnumpuram', 'Chempazhanti']}\n",
    "\n",
    "index = ['a', 'b', 'c']\n",
    "df = pd.DataFrame(data, index=index)\n",
    "\n",
    "print(\"Original df:\")\n",
    "print(df)\n",
    "print(\"\\n\" + \"=\"*30 + \"\\n\")\n",
    "\n",
    "newdf = df.reset_index(drop=True)\n",
    "\n",
    "print(\"df with default index:\")\n",
    "print(newdf)"
   ]
  },
  {
   "cell_type": "markdown",
   "metadata": {},
   "source": [
    "**8. Given a dataframe, select first 2 rows and output them.**"
   ]
  },
  {
   "cell_type": "code",
   "execution_count": 24,
   "metadata": {},
   "outputs": [
    {
     "name": "stdout",
     "output_type": "stream",
     "text": [
      "      Name  Age         City\n",
      "0    Akhil   25        Ranni\n",
      "1  Bhavana   30  Kunnumpuram\n"
     ]
    }
   ],
   "source": [
    "data = {'Name': ['Akhil', 'Bhavana', 'Deepak'],\n",
    "        'Age': [25, 30, 35],\n",
    "        'City': ['Ranni', 'Kunnumpuram', 'Chempazhanti']}\n",
    "df = pd.DataFrame(data)\n",
    "\n",
    "first_two_rows = df.head(2)\n",
    "print(first_two_rows)"
   ]
  },
  {
   "cell_type": "markdown",
   "metadata": {},
   "source": [
    "**9. Given is a dataframe showing name, occupation, salary of people. Find the average salary per occupation**"
   ]
  },
  {
   "cell_type": "code",
   "execution_count": 28,
   "metadata": {},
   "outputs": [
    {
     "name": "stdout",
     "output_type": "stream",
     "text": [
      "Occupation\n",
      "Doctor      125000.0\n",
      "Engineer     85000.0\n",
      "Lawyer      150000.0\n",
      "Name: Salary, dtype: float64\n"
     ]
    }
   ],
   "source": [
    "data = {'Name': ['Alice', 'Bob', 'Charlie', 'David', 'Eve', 'Frank'],\n",
    "        'Occupation': ['Engineer', 'Doctor', 'Engineer', 'Lawyer', 'Doctor', 'Engineer'],\n",
    "        'Salary': [80000, 120000, 90000, 150000, 130000, 85000]}\n",
    "df = pd.DataFrame(data)\n",
    "\n",
    "salaries = df.groupby('Occupation')['Salary'].mean()\n",
    "\n",
    "print(salaries)"
   ]
  },
  {
   "cell_type": "markdown",
   "metadata": {},
   "source": [
    "**10. Given a dataframe with NaN values, fill the NaN values with 0**"
   ]
  },
  {
   "cell_type": "code",
   "execution_count": 30,
   "metadata": {},
   "outputs": [
    {
     "name": "stdout",
     "output_type": "stream",
     "text": [
      "Original DataFrame:\n",
      "     A    B   C\n",
      "0  1.0  5.0   9\n",
      "1  2.0  NaN  10\n",
      "2  NaN  NaN  11\n",
      "3  4.0  8.0  12\n",
      "\n",
      "==============================\n",
      "\n",
      "DataFrame after filling NaN with 0:\n",
      "     A    B   C\n",
      "0  1.0  5.0   9\n",
      "1  2.0  0.0  10\n",
      "2  0.0  0.0  11\n",
      "3  4.0  8.0  12\n"
     ]
    }
   ],
   "source": [
    "data = {'A': [1, 2, np.nan, 4],\n",
    "        'B': [5, np.nan, np.nan, 8],\n",
    "        'C': [9, 10, 11, 12]}\n",
    "df = pd.DataFrame(data)\n",
    "\n",
    "print(\"Original DataFrame:\")\n",
    "print(df)\n",
    "print(\"\\n\" + \"=\"*30 + \"\\n\")\n",
    "\n",
    "df_filled = df.fillna(0)\n",
    "\n",
    "print(\"DataFrame after filling NaN with 0:\")\n",
    "print(df_filled)"
   ]
  },
  {
   "cell_type": "markdown",
   "metadata": {},
   "source": [
    "**11. Given is a dataframe showing Company Names (cname) and corresponding Profits (profit). Convert the values of Profit column such that values in it greater than 0 are set to True and the rest are set to False**"
   ]
  },
  {
   "cell_type": "code",
   "execution_count": 31,
   "metadata": {},
   "outputs": [
    {
     "name": "stdout",
     "output_type": "stream",
     "text": [
      "Original DataFrame:\n",
      "       cname  profit\n",
      "0  Company A   10000\n",
      "1  Company B   -5000\n",
      "2  Company C       0\n",
      "3  Company D    2500\n",
      "4  Company E    -100\n",
      "\n",
      "==============================\n",
      "\n",
      "DataFrame after converting 'profit' column:\n",
      "       cname  profit\n",
      "0  Company A    True\n",
      "1  Company B   False\n",
      "2  Company C   False\n",
      "3  Company D    True\n",
      "4  Company E   False\n"
     ]
    }
   ],
   "source": [
    "data = {'cname': ['Company A', 'Company B', 'Company C', 'Company D', 'Company E'],\n",
    "        'profit': [10000, -5000, 0, 2500, -100]}\n",
    "df = pd.DataFrame(data)\n",
    "\n",
    "print(\"Original DataFrame:\")\n",
    "print(df)\n",
    "print(\"\\n\" + \"=\"*30 + \"\\n\")\n",
    "\n",
    "df['profit'] = df['profit'] > 0\n",
    "\n",
    "print(\"DataFrame after converting 'profit' column:\")\n",
    "print(df)"
   ]
  },
  {
   "cell_type": "markdown",
   "metadata": {},
   "source": [
    "**12. Given are 2 dataframes, with one dataframe containing Employee ID(eid), Employee Name (ename) and Stipend (stipend) and the other dataframe containing Employee ID (eid) and designation of the employee (designation). Output the Dataframe containing Employee ID (eid), Employee Name (ename), Stipend (stipend) and Position (position)**"
   ]
  },
  {
   "cell_type": "code",
   "execution_count": 32,
   "metadata": {},
   "outputs": [
    {
     "name": "stdout",
     "output_type": "stream",
     "text": [
      "   eid    ename  stipend    position\n",
      "0  101    Alice    50000     Manager\n",
      "1  102      Bob    60000     Analyst\n",
      "2  103  Charlie    75000  Supervisor\n",
      "3  104    David    55000     Trainee\n"
     ]
    }
   ],
   "source": [
    "data1 = {'eid': [101, 102, 103, 104],\n",
    "         'ename': ['Alice', 'Bob', 'Charlie', 'David'],\n",
    "         'stipend': [50000, 60000, 75000, 55000]}\n",
    "df1 = pd.DataFrame(data1)\n",
    "\n",
    "data2 = {'eid': [101, 102, 103, 104],\n",
    "         'designation': ['Manager', 'Analyst', 'Supervisor', 'Trainee']}\n",
    "df2 = pd.DataFrame(data2)\n",
    "\n",
    "merged_df = pd.merge(df1, df2, on='eid')\n",
    "\n",
    "merged_df.rename(columns={'designation': 'position'}, inplace=True)\n",
    "\n",
    "print(merged_df)"
   ]
  }
 ],
 "metadata": {
  "kernelspec": {
   "display_name": "base",
   "language": "python",
   "name": "python3"
  },
  "language_info": {
   "codemirror_mode": {
    "name": "ipython",
    "version": 3
   },
   "file_extension": ".py",
   "mimetype": "text/x-python",
   "name": "python",
   "nbconvert_exporter": "python",
   "pygments_lexer": "ipython3",
   "version": "3.12.4"
  }
 },
 "nbformat": 4,
 "nbformat_minor": 2
}
