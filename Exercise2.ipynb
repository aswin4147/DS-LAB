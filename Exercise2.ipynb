{
 "cells": [
  {
   "cell_type": "code",
   "execution_count": 1,
   "metadata": {},
   "outputs": [],
   "source": [
    "import numpy as np"
   ]
  },
  {
   "cell_type": "markdown",
   "metadata": {},
   "source": [
    "inputing the matrices"
   ]
  },
  {
   "cell_type": "code",
   "execution_count": 8,
   "metadata": {},
   "outputs": [
    {
     "name": "stdout",
     "output_type": "stream",
     "text": [
      "First matrix:\n",
      "[[1 2]\n",
      " [3 4]]\n",
      "Second matrix:\n",
      "[[1 2]\n",
      " [3 4]]\n"
     ]
    }
   ],
   "source": [
    "def get_matrix(r, c) -> list:\n",
    "    matrix = list()\n",
    "    for i in range(0, r):\n",
    "        row = list()\n",
    "        for j in range(0, c):\n",
    "            e = int(input(f\"m[{i}][{j}]: \"))\n",
    "            row.append(e)\n",
    "        matrix.append(row)\n",
    "    return matrix\n",
    "\n",
    "r1, c1 = map(int, input(\"Enter the size of the first matrix\").split())\n",
    "r2, c2 = map(int, input(\"Enter the size of the second matrix\").split())\n",
    "if c1 != r2:\n",
    "    print(\"Incompatible order\")\n",
    "else:\n",
    "    m1 = np.array(get_matrix(r1, c1))\n",
    "    m2 = np.array(get_matrix(r2, c2))\n",
    "    print(\"First matrix:\")\n",
    "    print(m1)\n",
    "    print(\"Second matrix:\")\n",
    "    print(m2)\n"
   ]
  },
  {
   "cell_type": "markdown",
   "metadata": {},
   "source": [
    "TRANSPOSE     TRACE"
   ]
  },
  {
   "cell_type": "code",
   "execution_count": 10,
   "metadata": {},
   "outputs": [
    {
     "name": "stdout",
     "output_type": "stream",
     "text": [
      "The transpose of first matrix is: \n",
      "[[1 3]\n",
      " [2 4]]\n",
      "The trace of first matrix is: \n",
      "5\n"
     ]
    }
   ],
   "source": [
    "\n",
    "print(\"The transpose of matrix is: \")\n",
    "print(np.transpose(m1))\n",
    "print(\"The trace of matrix is: \")\n",
    "print(np.trace(m1))\n"
   ]
  },
  {
   "cell_type": "markdown",
   "metadata": {},
   "source": [
    "DOT"
   ]
  },
  {
   "cell_type": "code",
   "execution_count": 12,
   "metadata": {},
   "outputs": [
    {
     "name": "stdout",
     "output_type": "stream",
     "text": [
      "The dot of the two matrices\n",
      "[[ 7 10]\n",
      " [15 22]]\n"
     ]
    }
   ],
   "source": [
    "print(\"The dot of the two matrices\")\n",
    "print(np.dot(m1,m2))"
   ]
  },
  {
   "cell_type": "markdown",
   "metadata": {},
   "source": [
    "INVERSE"
   ]
  },
  {
   "cell_type": "code",
   "execution_count": 13,
   "metadata": {},
   "outputs": [
    {
     "name": "stdout",
     "output_type": "stream",
     "text": [
      "Inverse of first matrix is: \n",
      " [[-2.   1. ]\n",
      " [ 1.5 -0.5]]\n"
     ]
    }
   ],
   "source": [
    "print(\"Inverse of matrix is: \\n\", np.linalg.inv(m1))"
   ]
  },
  {
   "cell_type": "markdown",
   "metadata": {},
   "source": [
    "RANK"
   ]
  },
  {
   "cell_type": "code",
   "execution_count": 16,
   "metadata": {},
   "outputs": [
    {
     "name": "stdout",
     "output_type": "stream",
     "text": [
      "Rank of first matrix is  2\n"
     ]
    }
   ],
   "source": [
    "print(\"Rank of matrix is \", np.linalg.matrix_rank(m1))"
   ]
  },
  {
   "cell_type": "markdown",
   "metadata": {},
   "source": [
    "Eigen val and vector"
   ]
  },
  {
   "cell_type": "code",
   "execution_count": 17,
   "metadata": {},
   "outputs": [
    {
     "name": "stdout",
     "output_type": "stream",
     "text": [
      "The eigen value is: \n",
      "[-0.37228132  5.37228132]\n",
      "The eigen vectors are: \n",
      "[[-0.82456484 -0.41597356]\n",
      " [ 0.56576746 -0.90937671]]\n"
     ]
    }
   ],
   "source": [
    "eigval, eigvec = np.linalg.eig(m1)\n",
    "print(\"The eigen value is: \")\n",
    "print(eigval)\n",
    "print(\"The eigen vectors are: \")\n",
    "print(eigvec)"
   ]
  },
  {
   "cell_type": "markdown",
   "metadata": {},
   "source": [
    "DETERMINANT"
   ]
  },
  {
   "cell_type": "code",
   "execution_count": 18,
   "metadata": {},
   "outputs": [
    {
     "name": "stdout",
     "output_type": "stream",
     "text": [
      "The determinant is: \n",
      "-2.0000000000000004\n"
     ]
    }
   ],
   "source": [
    "print(\"The determinant is: \")\n",
    "print(np.linalg.det(m1))"
   ]
  }
 ],
 "metadata": {
  "kernelspec": {
   "display_name": "venv",
   "language": "python",
   "name": "python3"
  },
  "language_info": {
   "codemirror_mode": {
    "name": "ipython",
    "version": 3
   },
   "file_extension": ".py",
   "mimetype": "text/x-python",
   "name": "python",
   "nbconvert_exporter": "python",
   "pygments_lexer": "ipython3",
   "version": "3.9.12"
  }
 },
 "nbformat": 4,
 "nbformat_minor": 2
}
