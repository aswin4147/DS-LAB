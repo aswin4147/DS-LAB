{
 "cells": [
  {
   "cell_type": "code",
   "execution_count": 2,
   "metadata": {},
   "outputs": [],
   "source": [
    "import numpy as np"
   ]
  },
  {
   "cell_type": "markdown",
   "metadata": {},
   "source": [
    "pgm 5"
   ]
  },
  {
   "cell_type": "code",
   "execution_count": 6,
   "metadata": {},
   "outputs": [
    {
     "name": "stdout",
     "output_type": "stream",
     "text": [
      "Before sorting: \n",
      "(4+2j) (3-4j) (6+1j)\n",
      "After sorting: \n",
      "(3-4j) (4+2j) (6+1j)\n"
     ]
    }
   ],
   "source": [
    "comp = np.array([4 + 2j, 3 - 4j, 6 + 1j])\n",
    "print(\"Before sorting: \")\n",
    "print(*comp)\n",
    "print(\"After sorting: \")\n",
    "print(*np.sort_complex(comp))"
   ]
  },
  {
   "cell_type": "markdown",
   "metadata": {},
   "source": [
    "pgm 6"
   ]
  },
  {
   "cell_type": "code",
   "execution_count": 12,
   "metadata": {},
   "outputs": [
    {
     "name": "stdout",
     "output_type": "stream",
     "text": [
      "The random array:  [3 7 3 8 0]\n",
      "Elements greater than 4:  7 8\n"
     ]
    }
   ],
   "source": [
    "arr = np.random.randint(0, 10, 5)\n",
    "print(\"The random array: \",arr)\n",
    "print(\"Elements greater than 4: \",*arr[np.where(arr>4)])"
   ]
  },
  {
   "cell_type": "markdown",
   "metadata": {},
   "source": [
    "pgm 7"
   ]
  },
  {
   "cell_type": "code",
   "execution_count": 18,
   "metadata": {},
   "outputs": [
    {
     "name": "stdout",
     "output_type": "stream",
     "text": [
      "8 4 4 4 3\n",
      "4 found at (array([1, 2, 3]),)\n"
     ]
    }
   ],
   "source": [
    "arr = np.random.randint(0, 10, 5)\n",
    "print(*arr)\n",
    "n = int(input(\"Enter the element to search: \"))\n",
    "print(f\"{n} found at {np.where(arr == n)}\") if n in arr else print(\"not found\")"
   ]
  },
  {
   "cell_type": "markdown",
   "metadata": {},
   "source": [
    "pgm 8"
   ]
  },
  {
   "cell_type": "code",
   "execution_count": 29,
   "metadata": {},
   "outputs": [
    {
     "name": "stdout",
     "output_type": "stream",
     "text": [
      "The data from text file is:  [38. 89. 25. 31. 26.]\n"
     ]
    }
   ],
   "source": [
    "arr = np.random.randint(0, 100, 5)\n",
    "temp = np.savetxt(\"file.txt\", arr)\n",
    "temp = np.loadtxt(\"file.txt\")\n",
    "print(\"The data from text file is: \", temp)"
   ]
  },
  {
   "cell_type": "markdown",
   "metadata": {},
   "source": [
    "pgm 9"
   ]
  },
  {
   "cell_type": "code",
   "execution_count": 33,
   "metadata": {},
   "outputs": [
    {
     "name": "stdout",
     "output_type": "stream",
     "text": [
      "Even numbers from 30 to 60\n",
      "30 32 34 36 38 40 42 44 46 48 50 52 54 56 58 60\n"
     ]
    }
   ],
   "source": [
    "print(\"Even numbers from 30 to 60\")\n",
    "arr = np.arange(30, 61, 2)\n",
    "print(*arr)"
   ]
  },
  {
   "cell_type": "markdown",
   "metadata": {},
   "source": [
    "pgm 10"
   ]
  },
  {
   "cell_type": "code",
   "execution_count": 43,
   "metadata": {},
   "outputs": [
    {
     "name": "stdout",
     "output_type": "stream",
     "text": [
      "[[3 9 3 6 8]\n",
      " [2 8 5 2 6]\n",
      " [3 9 4 8 2]\n",
      " [7 1 5 0 9]\n",
      " [9 3 9 2 9]]\n",
      "Sum of all elements:  132\n",
      "Sum along row:  [24 30 26 18 34]\n",
      "Sum along column:  [29 23 26 22 32]\n"
     ]
    }
   ],
   "source": [
    "arr = np.random.randint(0, 10, (5, 5))\n",
    "print(arr)\n",
    "print(\"Sum of all elements: \", np.sum(arr))\n",
    "print(\"Sum along row: \", np.sum(arr, axis=0))\n",
    "print(\"Sum along column: \", np.sum(arr, axis=1))"
   ]
  }
 ],
 "metadata": {
  "kernelspec": {
   "display_name": "base",
   "language": "python",
   "name": "python3"
  },
  "language_info": {
   "codemirror_mode": {
    "name": "ipython",
    "version": 3
   },
   "file_extension": ".py",
   "mimetype": "text/x-python",
   "name": "python",
   "nbconvert_exporter": "python",
   "pygments_lexer": "ipython3",
   "version": "3.12.4"
  }
 },
 "nbformat": 4,
 "nbformat_minor": 2
}
